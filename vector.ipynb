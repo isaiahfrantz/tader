{
 "cells": [
  {
   "cell_type": "code",
   "execution_count": null,
   "metadata": {},
   "outputs": [],
   "source": [
    "from vectorbtpro import *\n",
    "\n",
    "poly_client = vbt.BinanceData.resolve_client(\n",
    "    api_key=\"YOUR_KEY\",\n",
    "    api_secret=\"YOUR_SECRET\"\n",
    ")\n",
    "poly_client\n",
    "\n",
    "poly_data = vbt.PolygonData.pull(\n",
    "    \"X:BTCUSD\",\n",
    "    start=\"2021-01-01\",\n",
    "    end=\"2022-01-01\",\n",
    "    timeframe=\"1 day\"\n",
    ")\n",
    "poly_data.save(\"poly_data\")"
   ]
  }
 ],
 "metadata": {
  "language_info": {
   "name": "python"
  }
 },
 "nbformat": 4,
 "nbformat_minor": 2
}
